{
 "cells": [
  {
   "cell_type": "code",
   "execution_count": 17,
   "id": "710d4ce8-0c69-4714-8827-9540573df457",
   "metadata": {},
   "outputs": [],
   "source": [
    "import pandas as pd\n",
    "import numpy as np\n",
    "from itertools import groupby\n",
    "import matplotlib.pyplot as plt\n",
    "from sklearn.metrics import precision_score, recall_score, accuracy_score, confusion_matrix, f1_score\n",
    "%matplotlib qt"
   ]
  },
  {
   "cell_type": "code",
   "execution_count": 18,
   "id": "a2c24b1e-4565-4378-939c-14d4a81b2fa6",
   "metadata": {},
   "outputs": [],
   "source": [
    "filename = 'cluster_results_f50_w5_c6_labeled.csv'\n",
    "df = pd.read_csv('./results/feature50/' + filename, index_col=0)"
   ]
  },
  {
   "cell_type": "code",
   "execution_count": 19,
   "id": "d73e67a3-8695-4f9f-9848-754d43b127ae",
   "metadata": {},
   "outputs": [],
   "source": [
    "# Select a feature(for visualization)\n",
    "feature = 'tGravityAcc-mean()-X' # User parameter"
   ]
  },
  {
   "cell_type": "code",
   "execution_count": 20,
   "id": "f3258e8d-83d3-42cf-a07b-e74e81f6a1ed",
   "metadata": {},
   "outputs": [],
   "source": [
    "\"\"\"\n",
    "Setting\n",
    "\"\"\"\n",
    "colors = ['#eb3b5a', '#f7b731', '#20bf6b', '#a55eea', '#3867d6', '#fa8231']\n",
    "activity_lst = ['WALKING', 'WALKING_UPSTAIRS', 'WALKING_DOWNSTAIRS', \n",
    "                'SITTING', 'STANDING', 'LAYING']\n",
    "cluster_lst = ['a', 'b', 'c', 'd', 'e', 'f']\n",
    "\n",
    "# Make the NaN dataframe(for plotting empty place at result)\n",
    "origin_df = pd.DataFrame(columns=activity_lst, index=df.index) # label\n",
    "pred_df = pd.DataFrame(columns=cluster_lst, index=df.index) # predict label\n",
    "\n",
    "# Assign the values to each column\n",
    "for act in activity_lst: origin_df[act] = df.loc[df.ActivityName==act][feature]\n",
    "for cluster in cluster_lst: pred_df[cluster] = df.loc[df.pred==cluster][feature]"
   ]
  },
  {
   "cell_type": "code",
   "execution_count": 21,
   "id": "8f17eb5f-cdb1-4602-a68f-caaa63258878",
   "metadata": {},
   "outputs": [],
   "source": [
    "\"\"\"\n",
    "Function Definition\n",
    "\"\"\"\n",
    "# 여러 개의 cluster를 하나의 fig로 출력\n",
    "def line_plot_several_into_one(dataframe, title, activity_lst=activity_lst, colors=colors):\n",
    "    plt.figure(figsize=(20, 10))\n",
    "\n",
    "    for i in range(len(activity_lst)):\n",
    "        plt.plot(dataframe.iloc[:, i], color=colors[i], label=activity_lst[i])\n",
    "        plt.legend()\n",
    "\n",
    "    plt.title(title, size=20)\n",
    "    plt.show()\n",
    "\n",
    "# 여러 개의 cluster를 여러 개의 fig로 출력\n",
    "def line_plot_several_into_several(dataframe, title, activity_lst=activity_lst):\n",
    "    f, axes = plt.subplots(3, 2)\n",
    "    f.set_size_inches((20, 15))\n",
    "    f.suptitle(title, size=20)\n",
    "    plt.subplots_adjust(wspace=0.2, hspace=0.2)\n",
    "\n",
    "    for i in range(3):\n",
    "        for j in range(2):\n",
    "            idx = i * 2 + j\n",
    "            axes[i, j].plot(dataframe.iloc[:, idx], label=activity_lst[idx], color='#ff3f34')\n",
    "            axes[i, j].set_title(str(activity_lst[idx]))\n",
    "\n",
    "    plt.legend()\n",
    "    plt.show()\n",
    "\n",
    "def line_plot_one_to_one(activity, pred_activity):\n",
    "    plt.figure(figsize=(20,10))\n",
    "    plt.plot(origin_df[activity], color=colors[0], label=activity, zorder=2)\n",
    "    plt.plot(pred_df[pred_activity], color=colors[3], label=pred_activity, alpha=0.4, zorder=1)\n",
    "    plt.legend()\n",
    "    plt.show()\n",
    "\n",
    "def scatter_plot_one_to_one(activity, pred_activity):\n",
    "    plt.figure(figsize=(20,10))\n",
    "    a= origin_df[activity].replace(np.nan, None)\n",
    "    b= pred_df[pred_activity].replace(np.nan, None)\n",
    "    plt.scatter(origin_df.index, a, color=colors[0], label=activity, zorder=2)\n",
    "    plt.scatter(pred_df.index, b, color=colors[3], label=pred_activity, alpha=0.4, zorder=1)\n",
    "    plt.legend()\n",
    "    plt.show()\n",
    "\n",
    "# 동일한 요소의 세그먼트 수 count\n",
    "def get_segmentation_count(lst):\n",
    "    return [key for key, group in groupby(lst)]\n"
   ]
  },
  {
   "cell_type": "markdown",
   "id": "c9ef6292-37a6-42c2-b63a-110f8b2643f4",
   "metadata": {},
   "source": [
    "## Evaluation"
   ]
  },
  {
   "cell_type": "code",
   "execution_count": 22,
   "id": "548084d7-a8a8-4b65-9155-a61b5fe9b63a",
   "metadata": {},
   "outputs": [],
   "source": [
    "origin_act = origin_df.copy().notnull().astype('int')\n",
    "pred_act = pred_df.copy().notnull().astype('int')"
   ]
  },
  {
   "cell_type": "code",
   "execution_count": 23,
   "id": "d6ccdbea-7173-41f8-bbf4-4168b2d60b4c",
   "metadata": {},
   "outputs": [],
   "source": [
    "\"\"\"\n",
    "Evaluation Metrics\n",
    "\"\"\"\n",
    "evl_df_lst = []\n",
    "\n",
    "for act in origin_act.columns:\n",
    "    evl_df = pd.DataFrame(index=pred_act.columns)\n",
    "    for pred in pred_act.columns:\n",
    "        evl_df.loc[pred,'Precision'] = precision_score(origin_act[act], pred_act[pred])\n",
    "        evl_df.loc[pred,'Recall'] = recall_score(origin_act[act], pred_act[pred])\n",
    "        evl_df.loc[pred,'Accuracy'] = accuracy_score(origin_act[act], pred_act[pred])\n",
    "        evl_df.loc[pred,'F1_score'] = f1_score(origin_act[act], pred_act[pred])\n",
    "        # conf_mat_lst.append(confusion_matrix(origin_act[act], pred_act[pred]))\n",
    "    evl_df_lst.append(evl_df)"
   ]
  },
  {
   "cell_type": "code",
   "execution_count": 24,
   "id": "98a72f9c-2fe5-4017-a7de-19148b877e08",
   "metadata": {},
   "outputs": [],
   "source": [
    "# Activity-성능 매핑\n",
    "evl_dict = dict(zip(origin_act.columns,evl_df_lst))\n",
    "evaluation_df = pd.concat(evl_dict)"
   ]
  },
  {
   "cell_type": "code",
   "execution_count": 25,
   "id": "b4683aea-e84d-4d6c-be53-540e424b99e9",
   "metadata": {},
   "outputs": [],
   "source": [
    "# 기준 지표 설정\n",
    "metric = 'F1_score'\n",
    "evl_base = evaluation_df[metric].copy()"
   ]
  },
  {
   "cell_type": "code",
   "execution_count": 26,
   "id": "139de784-c08a-4982-b9af-82a961c3823b",
   "metadata": {},
   "outputs": [],
   "source": [
    "evl_idx_lst = list(evl_base.index)\n",
    "# evl_idx_lst"
   ]
  },
  {
   "cell_type": "code",
   "execution_count": 27,
   "id": "6b01f1ff-4e87-4ff2-8b88-d38e37c7e806",
   "metadata": {},
   "outputs": [
    {
     "data": {
      "text/plain": [
       "[('WALKING', 'a'),\n",
       " ('WALKING', 'b'),\n",
       " ('WALKING', 'c'),\n",
       " ('WALKING', 'd'),\n",
       " ('WALKING', 'e'),\n",
       " ('WALKING', 'f'),\n",
       " ('WALKING_UPSTAIRS', 'a'),\n",
       " ('WALKING_UPSTAIRS', 'b'),\n",
       " ('WALKING_UPSTAIRS', 'c'),\n",
       " ('WALKING_UPSTAIRS', 'd'),\n",
       " ('WALKING_UPSTAIRS', 'e'),\n",
       " ('WALKING_UPSTAIRS', 'f'),\n",
       " ('WALKING_DOWNSTAIRS', 'a'),\n",
       " ('WALKING_DOWNSTAIRS', 'b'),\n",
       " ('WALKING_DOWNSTAIRS', 'c'),\n",
       " ('WALKING_DOWNSTAIRS', 'd'),\n",
       " ('WALKING_DOWNSTAIRS', 'e'),\n",
       " ('WALKING_DOWNSTAIRS', 'f'),\n",
       " ('SITTING', 'a'),\n",
       " ('SITTING', 'b'),\n",
       " ('SITTING', 'c'),\n",
       " ('SITTING', 'd'),\n",
       " ('SITTING', 'e'),\n",
       " ('SITTING', 'f'),\n",
       " ('STANDING', 'a'),\n",
       " ('STANDING', 'b'),\n",
       " ('STANDING', 'c'),\n",
       " ('STANDING', 'd'),\n",
       " ('STANDING', 'e'),\n",
       " ('STANDING', 'f'),\n",
       " ('LAYING', 'a'),\n",
       " ('LAYING', 'b'),\n",
       " ('LAYING', 'c'),\n",
       " ('LAYING', 'd'),\n",
       " ('LAYING', 'e'),\n",
       " ('LAYING', 'f')]"
      ]
     },
     "execution_count": 27,
     "metadata": {},
     "output_type": "execute_result"
    }
   ],
   "source": [
    "evl_idx_lst"
   ]
  },
  {
   "cell_type": "code",
   "execution_count": 28,
   "id": "565726c1-adc4-4fef-aaf3-f5dbe9a43888",
   "metadata": {},
   "outputs": [],
   "source": [
    "assigned_result = []\n",
    "while(len(assigned_result) < len(activity_lst)):\n",
    "    max_idx = evl_base.idxmax() # max값을 가지는 index 추출\n",
    "    assigned_result.append(max_idx)\n",
    "    evl_idx_lst = list(filter(lambda x: (x[0] != max_idx[0]) and (x[1] != max_idx[1]) , evl_idx_lst)) # Activity와 clsuter 매칭 -> max값을 가지는 activity와 cluster 제거(할당 완료되었으므로)\n",
    "    evl_base = evl_base[evl_idx_lst]\n",
    "    # print(evl_idx_lst,'\\n')"
   ]
  },
  {
   "cell_type": "markdown",
   "id": "3ee1a12d-897a-4680-9aa2-b06efa9166b9",
   "metadata": {},
   "source": [
    "## Visualization\n",
    "- Clustering Result"
   ]
  },
  {
   "cell_type": "code",
   "execution_count": 29,
   "id": "0a0653db-dd2c-4df0-8bde-976f320d1c9d",
   "metadata": {},
   "outputs": [],
   "source": [
    "line_plot_several_into_one(origin_df, 'Original Label')\n",
    "line_plot_several_into_one(pred_df, 'Predict Label')"
   ]
  },
  {
   "cell_type": "code",
   "execution_count": null,
   "id": "93b17fe6-ea6b-45cd-9cc3-4facdab85644",
   "metadata": {},
   "outputs": [],
   "source": [
    "line_plot_several_into_several(origin_df, 'Original Label')\n",
    "line_plot_several_into_several(pred_df, 'Predict Label')"
   ]
  },
  {
   "cell_type": "markdown",
   "id": "62e62215-1ec4-4617-94f2-c6acc0b80d90",
   "metadata": {},
   "source": [
    "## Visualization \n",
    "- Evaluation Result"
   ]
  },
  {
   "cell_type": "code",
   "execution_count": 30,
   "id": "a8af8b33-b3c2-498d-97bd-1e6bbd2c9e30",
   "metadata": {},
   "outputs": [],
   "source": [
    "num = 0 # User parameter"
   ]
  },
  {
   "cell_type": "code",
   "execution_count": 31,
   "id": "5977bd82-2421-4e43-9684-a65cb2a4c7e9",
   "metadata": {},
   "outputs": [],
   "source": [
    "line_plot_one_to_one(assigned_result[num][0], assigned_result[num][1])\n",
    "scatter_plot_one_to_one(assigned_result[num][0], assigned_result[num][1])"
   ]
  },
  {
   "cell_type": "code",
   "execution_count": null,
   "id": "ea416174-8fd6-4e50-b813-0f113d568508",
   "metadata": {},
   "outputs": [],
   "source": [
    "act = assigned_result[num][0]\n",
    "clu = assigned_result[num][1]\n",
    "\n",
    "tp_idx = (origin_act.loc[origin_act[act] == 1, act].index).intersection(pred_act.loc[pred_act[clu] == 1, clu].index)\n",
    "fp_idx = (origin_act.loc[origin_act[act] == 0, act].index).intersection(pred_act.loc[pred_act[clu] == 1, clu].index)"
   ]
  },
  {
   "cell_type": "code",
   "execution_count": null,
   "id": "48e61ac5-08b6-4016-b20b-8976b819f89d",
   "metadata": {},
   "outputs": [],
   "source": [
    "\"\"\"\n",
    "Visualization\n",
    "\"\"\"\n",
    "plt.figure(figsize=(20,10))\n",
    "plt.suptitle(f\"({act}, {clu}) (TP/FP)\", size=20)\n",
    "vis_df = pd.DataFrame(index=df.index)\n",
    "\n",
    "vis_df['tp'] = df[feature].loc[tp_idx].replace(np.nan, None)\n",
    "vis_df['fp'] = df[feature].loc[fp_idx].replace(np.nan, None)\n",
    "\n",
    "plt.scatter(df.index, vis_df['tp'], color=colors[0], label='tp', alpha=0.3, zorder=1)\n",
    "plt.scatter(df.index, vis_df['fp'], color=colors[1], label='fp', alpha=0.3, zorder=2)\n",
    "plt.legend()\n",
    "plt.show()"
   ]
  },
  {
   "cell_type": "markdown",
   "id": "1f5207b0-1e71-49e7-ac32-62e536d5830a",
   "metadata": {},
   "source": [
    "### Segmentation"
   ]
  },
  {
   "cell_type": "code",
   "execution_count": 32,
   "id": "a158c13d-98f4-4fdb-a742-068a66d6293d",
   "metadata": {},
   "outputs": [],
   "source": [
    "# 동일한 요소의 세그먼트 수 count\n",
    "def get_segmentation_count(lst):\n",
    "    return [key for key, group in groupby(lst)]"
   ]
  },
  {
   "cell_type": "code",
   "execution_count": 33,
   "id": "87f772e9-8491-433b-85ea-0d1c49858ce4",
   "metadata": {},
   "outputs": [
    {
     "data": {
      "text/plain": [
       "400"
      ]
     },
     "execution_count": 33,
     "metadata": {},
     "output_type": "execute_result"
    }
   ],
   "source": [
    "# 실제 Segmentation 개수\n",
    "len(get_segmentation_count(df.Activity))"
   ]
  },
  {
   "cell_type": "code",
   "execution_count": 34,
   "id": "a8052b1c-05ab-4bf1-8236-9bb496a3572c",
   "metadata": {},
   "outputs": [
    {
     "data": {
      "text/plain": [
       "249"
      ]
     },
     "execution_count": 34,
     "metadata": {},
     "output_type": "execute_result"
    }
   ],
   "source": [
    "# 예측 Segmentation 개수\n",
    "len(get_segmentation_count(df.pred))"
   ]
  },
  {
   "cell_type": "code",
   "execution_count": null,
   "id": "7a13c68a-8aee-42a3-9b38-8d114f72a1f4",
   "metadata": {},
   "outputs": [],
   "source": [
    "# 객체 설정(사람 한 명 선택)\n",
    "sbj = 1 # User parameter\n",
    "\n",
    "print(get_segmentation_count(df.loc[df.subject==sbj].Activity)) # 실제 세그먼트\n",
    "print(get_segmentation_count(df.loc[df.subject==sbj].pred)) # 예측 세그먼트"
   ]
  }
 ],
 "metadata": {
  "kernelspec": {
   "display_name": "Python 3 (ipykernel)",
   "language": "python",
   "name": "python3"
  },
  "language_info": {
   "codemirror_mode": {
    "name": "ipython",
    "version": 3
   },
   "file_extension": ".py",
   "mimetype": "text/x-python",
   "name": "python",
   "nbconvert_exporter": "python",
   "pygments_lexer": "ipython3",
   "version": "3.9.18"
  }
 },
 "nbformat": 4,
 "nbformat_minor": 5
}
